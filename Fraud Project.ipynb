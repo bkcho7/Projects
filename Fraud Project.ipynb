{
 "cells": [
  {
   "cell_type": "code",
   "execution_count": 1,
   "metadata": {},
   "outputs": [],
   "source": [
    "import pandas as pd\n",
    "import numpy as np\n",
    "from sklearn.linear_model import LogisticRegression\n",
    "from sklearn.model_selection import train_test_split, KFold, GridSearchCV\n",
    "from sklearn import metrics\n",
    "from datetime import datetime as dt\n",
    "import statsmodels.api as sm\n",
    "import warnings\n",
    "warnings.filterwarnings(\"ignore\")\n",
    "from sklearn.feature_selection import RFE\n",
    "from sklearn.model_selection import cross_val_score"
   ]
  },
  {
   "cell_type": "code",
   "execution_count": 2,
   "metadata": {},
   "outputs": [],
   "source": [
    "data=pd.read_csv(\"final30var.csv\")"
   ]
  },
  {
   "cell_type": "code",
   "execution_count": 5,
   "metadata": {},
   "outputs": [],
   "source": [
    "tt=data.loc[data['Date']<='2010-10-31']"
   ]
  },
  {
   "cell_type": "code",
   "execution_count": 6,
   "metadata": {},
   "outputs": [],
   "source": [
    "oot=data.loc[data['Date']>='2010-11-01']"
   ]
  },
  {
   "cell_type": "code",
   "execution_count": 7,
   "metadata": {},
   "outputs": [],
   "source": [
    "y_orig=tt.iloc[:,[32]]\n",
    "X_orig=tt.iloc[:,0:30]"
   ]
  },
  {
   "cell_type": "code",
   "execution_count": 8,
   "metadata": {},
   "outputs": [],
   "source": [
    "x_oot=oot.iloc[:,0:30]\n",
    "y_oot=oot.iloc[:,[32]]"
   ]
  },
  {
   "cell_type": "code",
   "execution_count": 9,
   "metadata": {},
   "outputs": [
    {
     "data": {
      "text/plain": [
       "Index(['Cardnum_max_30', 'Cardnum_mean_0', 'Cardnum_total_1',\n",
       "       'Cardnum_total_14', 'Cardnum_total_30', 'Merchnum_total_1',\n",
       "       'amount/amount1Cardnum30', 'card_merch_max_3', 'card_merch_max_7',\n",
       "       'card_merch_median_3', 'card_merch_total_1', 'card_merch_total_7',\n",
       "       'card_state_max_1', 'card_state_max_14', 'card_state_max_30',\n",
       "       'card_state_mean_1', 'card_state_total_14', 'card_state_total_3',\n",
       "       'card_state_total_30', 'card_zip_max_1', 'card_zip_max_14',\n",
       "       'card_zip_mean_1', 'card_zip_mean_3', 'card_zip_median_3',\n",
       "       'card_zip_total_1', 'card_zip_total_14', 'card_zip_total_30',\n",
       "       'card_zip_total_7', 'Cardnum_max_0', 'card_merch_mean_3'],\n",
       "      dtype='object')"
      ]
     },
     "execution_count": 9,
     "metadata": {},
     "output_type": "execute_result"
    }
   ],
   "source": [
    "X_orig.columns"
   ]
  },
  {
   "cell_type": "markdown",
   "metadata": {},
   "source": [
    "### Models"
   ]
  },
  {
   "cell_type": "markdown",
   "metadata": {},
   "source": [
    "## TTL 25variables"
   ]
  },
  {
   "cell_type": "code",
   "execution_count": 20,
   "metadata": {},
   "outputs": [
    {
     "data": {
      "text/html": [
       "<div>\n",
       "<style scoped>\n",
       "    .dataframe tbody tr th:only-of-type {\n",
       "        vertical-align: middle;\n",
       "    }\n",
       "\n",
       "    .dataframe tbody tr th {\n",
       "        vertical-align: top;\n",
       "    }\n",
       "\n",
       "    .dataframe thead th {\n",
       "        text-align: right;\n",
       "    }\n",
       "</style>\n",
       "<table border=\"1\" class=\"dataframe\">\n",
       "  <thead>\n",
       "    <tr style=\"text-align: right;\">\n",
       "      <th></th>\n",
       "      <th>trn</th>\n",
       "      <th>tst</th>\n",
       "      <th>oot</th>\n",
       "    </tr>\n",
       "  </thead>\n",
       "  <tbody>\n",
       "    <tr>\n",
       "      <th>0</th>\n",
       "      <td>0.0</td>\n",
       "      <td>0.0</td>\n",
       "      <td>0.0</td>\n",
       "    </tr>\n",
       "    <tr>\n",
       "      <th>1</th>\n",
       "      <td>0.0</td>\n",
       "      <td>0.0</td>\n",
       "      <td>0.0</td>\n",
       "    </tr>\n",
       "    <tr>\n",
       "      <th>2</th>\n",
       "      <td>0.0</td>\n",
       "      <td>0.0</td>\n",
       "      <td>0.0</td>\n",
       "    </tr>\n",
       "    <tr>\n",
       "      <th>3</th>\n",
       "      <td>0.0</td>\n",
       "      <td>0.0</td>\n",
       "      <td>0.0</td>\n",
       "    </tr>\n",
       "    <tr>\n",
       "      <th>4</th>\n",
       "      <td>0.0</td>\n",
       "      <td>0.0</td>\n",
       "      <td>0.0</td>\n",
       "    </tr>\n",
       "  </tbody>\n",
       "</table>\n",
       "</div>"
      ],
      "text/plain": [
       "   trn  tst  oot\n",
       "0  0.0  0.0  0.0\n",
       "1  0.0  0.0  0.0\n",
       "2  0.0  0.0  0.0\n",
       "3  0.0  0.0  0.0\n",
       "4  0.0  0.0  0.0"
      ]
     },
     "execution_count": 20,
     "metadata": {},
     "output_type": "execute_result"
    }
   ],
   "source": [
    "niter=0\n",
    "nitermax=10\n",
    "FDR3=pd.DataFrame(np.zeros((nitermax,3)),columns=('trn','tst','oot'))\n",
    "FDR3.head()"
   ]
  },
  {
   "cell_type": "code",
   "execution_count": 12,
   "metadata": {},
   "outputs": [],
   "source": [
    "col_30=['Cardnum_max_30', 'Cardnum_mean_0', 'Cardnum_total_1',\n",
    "       'Cardnum_total_14', 'Cardnum_total_30', 'Merchnum_total_1',\n",
    "       'amount/amount1Cardnum30', 'card_merch_max_3', 'card_merch_max_7',\n",
    "       'card_merch_median_3', 'card_merch_total_1', 'card_merch_total_7',\n",
    "       'card_state_max_1', 'card_state_max_14', 'card_state_max_30',\n",
    "       'card_state_mean_1', 'card_state_total_14', 'card_state_total_3',\n",
    "       'card_state_total_30', 'card_zip_max_1', 'card_zip_max_14',\n",
    "       'card_zip_mean_1', 'card_zip_mean_3', 'card_zip_median_3',\n",
    "       'card_zip_total_1', 'card_zip_total_14', 'card_zip_total_30',\n",
    "       'card_zip_total_7', 'Cardnum_max_0', 'card_merch_mean_3']"
   ]
  },
  {
   "cell_type": "code",
   "execution_count": 13,
   "metadata": {},
   "outputs": [],
   "source": [
    "model = LogisticRegression()\n",
    "rfe = RFE(model, 25)\n",
    "fit = rfe.fit(X_orig, y_orig)\n",
    "ranking=fit.ranking_.tolist()"
   ]
  },
  {
   "cell_type": "code",
   "execution_count": 15,
   "metadata": {},
   "outputs": [],
   "source": [
    "col=col_30\n",
    "ranking=ranking"
   ]
  },
  {
   "cell_type": "code",
   "execution_count": 16,
   "metadata": {},
   "outputs": [],
   "source": [
    "df = pd.DataFrame(list(zip(col, ranking)), \n",
    "               columns =['Name', 'rank']) \n",
    "df=df.sort_values(by=['rank'], ascending=True)\n",
    "df=df.loc[df['rank']==1]"
   ]
  },
  {
   "cell_type": "code",
   "execution_count": 17,
   "metadata": {},
   "outputs": [],
   "source": [
    "col_25=df['Name'].tolist()"
   ]
  },
  {
   "cell_type": "code",
   "execution_count": 18,
   "metadata": {},
   "outputs": [],
   "source": [
    "X_25=tt[col_25]\n",
    "y_25=tt.iloc[:,[32]]\n",
    "x_oot25 =oot[col_25]"
   ]
  },
  {
   "cell_type": "code",
   "execution_count": 21,
   "metadata": {},
   "outputs": [
    {
     "name": "stdout",
     "output_type": "stream",
     "text": [
      "0.6875 0.6583333333333333 0.40782122905027934\n",
      "0.6699834162520729 0.6931407942238267 0.41899441340782123\n",
      "0.6704180064308681 0.6976744186046512 0.4134078212290503\n",
      "0.6909090909090909 0.6545454545454545 0.4022346368715084\n",
      "0.7037643207855974 0.6319702602230484 0.39664804469273746\n",
      "0.6881028938906752 0.6666666666666666 0.44692737430167595\n",
      "0.694078947368421 0.6397058823529411 0.41899441340782123\n",
      "0.6737012987012987 0.678030303030303 0.4245810055865922\n",
      "0.6661184210526315 0.7279411764705882 0.4301675977653631\n",
      "0.6530944625407166 0.7180451127819549 0.4581005586592179\n"
     ]
    }
   ],
   "source": [
    "x_oot_orig=x_oot25.copy()\n",
    "for niter in range(nitermax):\n",
    "    X_train, X_test, y_train, y_test = train_test_split(X_25, y_25, test_size=0.3)\n",
    "    model=LogisticRegression(penalty='l2',C=0.01,n_jobs=-1)\n",
    "    \n",
    "    X_train_array = X_train.values\n",
    "    X_test_array = X_test.values\n",
    "    x_oot_array=x_oot.values\n",
    "    y_train_array = y_train.values\n",
    "    y_test_array = y_test.values\n",
    "    y_oot_array = y_oot.values\n",
    "    \n",
    "    x_oot=x_oot_orig.copy()\n",
    "    x_trn_eval=X_train.copy()\n",
    "    x_tst_eval=X_test.copy()\n",
    "    x_oot_eval=x_oot.copy()\n",
    "    \n",
    "    model.fit(X_train,y_train.values)\n",
    "    \n",
    "    predictions=model.predict_proba(X_train)[:,1]\n",
    "    \n",
    "    x_trn_eval['predicted']=predictions\n",
    "    x_trn_eval['Fraud']=y_train['Fraud']\n",
    "    toprows=int(round(x_trn_eval.shape[0]*0.03))\n",
    "    temp=x_trn_eval.sort_values('predicted',ascending=False).head(toprows)\n",
    "    needed=temp.loc[:,'Fraud']\n",
    "    FDR3.loc[niter,'trn']=sum(needed)/sum(x_trn_eval.loc[:,'Fraud'])\n",
    "    \n",
    "    predictions=model.predict_proba(X_test)[:,1]\n",
    "    \n",
    "    x_tst_eval['predicted']=predictions\n",
    "    x_tst_eval['Fraud']=y_test['Fraud']\n",
    "    toprows=int(round(x_tst_eval.shape[0]*0.03))\n",
    "    temp=x_tst_eval.sort_values('predicted',ascending=False).head(toprows)\n",
    "    needed=temp.loc[:,'Fraud']\n",
    "    FDR3.loc[niter,'tst']=sum(needed)/sum(x_tst_eval.loc[:,'Fraud'])\n",
    "    \n",
    "    predictions=model.predict_proba(x_oot)[:,1]\n",
    "    \n",
    "    x_oot_eval['predicted']=predictions\n",
    "    x_oot_eval['Fraud']=y_oot['Fraud']\n",
    "    toprows=int(round(x_oot_eval.shape[0]*0.03))\n",
    "    temp=x_oot_eval.sort_values('predicted',ascending=False).head(toprows)\n",
    "    needed=temp.loc[:,'Fraud']\n",
    "    FDR3.loc[niter,'oot']=sum(needed)/sum(x_oot_eval.loc[:,'Fraud'])\n",
    "    print(FDR3.loc[niter,'trn'],FDR3.loc[niter,'tst'],FDR3.loc[niter,'oot'])"
   ]
  },
  {
   "cell_type": "code",
   "execution_count": 22,
   "metadata": {},
   "outputs": [],
   "source": [
    "FDR3.to_csv('1.csv')"
   ]
  },
  {
   "cell_type": "markdown",
   "metadata": {},
   "source": [
    "## GridSearch"
   ]
  },
  {
   "cell_type": "code",
   "execution_count": 27,
   "metadata": {},
   "outputs": [],
   "source": [
    "logistic=LogisticRegression()\n",
    "penalty=['l1','l2']\n",
    "C=np.logspace(0,4,10)\n",
    "hyperparameters=dict(C=C,penalty=penalty)\n",
    "clf=GridSearchCV(logistic, hyperparameters,cv=3,verbose=0)\n",
    "best_model=clf.fit(X_orig,y_orig)"
   ]
  },
  {
   "cell_type": "code",
   "execution_count": 28,
   "metadata": {},
   "outputs": [
    {
     "name": "stdout",
     "output_type": "stream",
     "text": [
      "{'cv': 3, 'error_score': nan, 'estimator__C': 1.0, 'estimator__class_weight': None, 'estimator__dual': False, 'estimator__fit_intercept': True, 'estimator__intercept_scaling': 1, 'estimator__l1_ratio': None, 'estimator__max_iter': 100, 'estimator__multi_class': 'auto', 'estimator__n_jobs': None, 'estimator__penalty': 'l2', 'estimator__random_state': None, 'estimator__solver': 'lbfgs', 'estimator__tol': 0.0001, 'estimator__verbose': 0, 'estimator__warm_start': False, 'estimator': LogisticRegression(C=1.0, class_weight=None, dual=False, fit_intercept=True,\n",
      "                   intercept_scaling=1, l1_ratio=None, max_iter=100,\n",
      "                   multi_class='auto', n_jobs=None, penalty='l2',\n",
      "                   random_state=None, solver='lbfgs', tol=0.0001, verbose=0,\n",
      "                   warm_start=False), 'iid': 'deprecated', 'n_jobs': None, 'param_grid': {'C': array([1.00000000e+00, 2.78255940e+00, 7.74263683e+00, 2.15443469e+01,\n",
      "       5.99484250e+01, 1.66810054e+02, 4.64158883e+02, 1.29154967e+03,\n",
      "       3.59381366e+03, 1.00000000e+04]), 'penalty': ['l1', 'l2']}, 'pre_dispatch': '2*n_jobs', 'refit': True, 'return_train_score': False, 'scoring': None, 'verbose': 0}\n"
     ]
    }
   ],
   "source": [
    "print(best_model.get_params())"
   ]
  }
 ],
 "metadata": {
  "kernelspec": {
   "display_name": "Python 3",
   "language": "python",
   "name": "python3"
  },
  "language_info": {
   "codemirror_mode": {
    "name": "ipython",
    "version": 3
   },
   "file_extension": ".py",
   "mimetype": "text/x-python",
   "name": "python",
   "nbconvert_exporter": "python",
   "pygments_lexer": "ipython3",
   "version": "3.7.6"
  }
 },
 "nbformat": 4,
 "nbformat_minor": 2
}
