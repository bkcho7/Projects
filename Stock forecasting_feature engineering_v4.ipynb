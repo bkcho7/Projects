{
 "cells": [
  {
   "cell_type": "code",
   "execution_count": 2,
   "metadata": {
    "ExecuteTime": {
     "end_time": "2020-04-05T20:57:44.602687Z",
     "start_time": "2020-04-05T20:57:42.967005Z"
    }
   },
   "outputs": [],
   "source": [
    "import pandas as pd\n",
    "import numpy as np\n",
    "from sklearn.linear_model import LinearRegression\n",
    "from sklearn.feature_selection import RFECV\n",
    "from sklearn.model_selection import train_test_split\n",
    "from sklearn.feature_selection import RFE\n",
    "import warnings\n",
    "warnings.filterwarnings(\"ignore\")"
   ]
  },
  {
   "cell_type": "code",
   "execution_count": 3,
   "metadata": {
    "ExecuteTime": {
     "end_time": "2020-04-05T21:11:39.526973Z",
     "start_time": "2020-04-05T21:11:39.093651Z"
    }
   },
   "outputs": [],
   "source": [
    "fileNames = ['0000', '0010', '0015', '0016', '0018',\n",
    "            '0028', '0030', '0036', '0048', '0050',\n",
    "            '0089', '0104', '0109', '0111', '0150',\n",
    "            '0256', '0406', '0518', '0519', '0583',\n",
    "            '0585', '0637', '0690', '0837', '0887',\n",
    "            '0893', '0958', '0999', '1006', '1088', \n",
    "            '1166', '1169', '1186', '1288', '1318',\n",
    "            '1328', '1390', '1398', '1601', '1628',\n",
    "            '1668', '1688', '1766', '1800', '1818',\n",
    "            '1857', '1901', '1988', '1989', '1998']\n",
    "\n",
    "rawDict = {}\n",
    "featureDict = {}\n",
    "\n",
    "for name in fileNames:\n",
    "    rawDict[f'SH60{name}']=pd.read_csv(f'/Users/bkcho/Desktop/raw data/raw data 17-19/SH60{name}.csv')\n",
    "    featureDict[f'SH60{name}']=pd.read_csv(f'/Users/bkcho/Desktop/engineered features/engineered features 17-19/SH60{name}.csv', index_col=0)"
   ]
  },
  {
   "cell_type": "code",
   "execution_count": 4,
   "metadata": {
    "ExecuteTime": {
     "end_time": "2020-04-05T21:19:40.867165Z",
     "start_time": "2020-04-05T21:19:40.738852Z"
    }
   },
   "outputs": [],
   "source": [
    "for name in fileNames:\n",
    "    rawDict[f'SH60{name}']['Company']='SH60{}'.format(name)\n",
    "    featureDict[f'SH60{name}']['Company']='SH60{}'.format(name)"
   ]
  },
  {
   "cell_type": "code",
   "execution_count": 5,
   "metadata": {
    "ExecuteTime": {
     "end_time": "2020-04-05T21:20:06.831088Z",
     "start_time": "2020-04-05T21:20:06.810428Z"
    }
   },
   "outputs": [
    {
     "data": {
      "text/html": [
       "<div>\n",
       "<style scoped>\n",
       "    .dataframe tbody tr th:only-of-type {\n",
       "        vertical-align: middle;\n",
       "    }\n",
       "\n",
       "    .dataframe tbody tr th {\n",
       "        vertical-align: top;\n",
       "    }\n",
       "\n",
       "    .dataframe thead th {\n",
       "        text-align: right;\n",
       "    }\n",
       "</style>\n",
       "<table border=\"1\" class=\"dataframe\">\n",
       "  <thead>\n",
       "    <tr style=\"text-align: right;\">\n",
       "      <th></th>\n",
       "      <th>Time</th>\n",
       "      <th>Open</th>\n",
       "      <th>High</th>\n",
       "      <th>Low</th>\n",
       "      <th>Close</th>\n",
       "      <th>Volume</th>\n",
       "      <th>Company</th>\n",
       "    </tr>\n",
       "  </thead>\n",
       "  <tbody>\n",
       "    <tr>\n",
       "      <th>0</th>\n",
       "      <td>Day1</td>\n",
       "      <td>16.9570</td>\n",
       "      <td>17.1950</td>\n",
       "      <td>16.9570</td>\n",
       "      <td>17.0165</td>\n",
       "      <td>134513900</td>\n",
       "      <td>SH600010</td>\n",
       "    </tr>\n",
       "    <tr>\n",
       "      <th>1</th>\n",
       "      <td>Day2</td>\n",
       "      <td>17.0165</td>\n",
       "      <td>17.6709</td>\n",
       "      <td>16.9570</td>\n",
       "      <td>17.6114</td>\n",
       "      <td>352646700</td>\n",
       "      <td>SH600010</td>\n",
       "    </tr>\n",
       "    <tr>\n",
       "      <th>2</th>\n",
       "      <td>Day3</td>\n",
       "      <td>17.4329</td>\n",
       "      <td>17.6114</td>\n",
       "      <td>17.2545</td>\n",
       "      <td>17.5519</td>\n",
       "      <td>213135700</td>\n",
       "      <td>SH600010</td>\n",
       "    </tr>\n",
       "    <tr>\n",
       "      <th>3</th>\n",
       "      <td>Day4</td>\n",
       "      <td>17.4924</td>\n",
       "      <td>17.8494</td>\n",
       "      <td>17.3140</td>\n",
       "      <td>17.3734</td>\n",
       "      <td>148732700</td>\n",
       "      <td>SH600010</td>\n",
       "    </tr>\n",
       "    <tr>\n",
       "      <th>4</th>\n",
       "      <td>Day5</td>\n",
       "      <td>17.2545</td>\n",
       "      <td>18.0279</td>\n",
       "      <td>17.1355</td>\n",
       "      <td>17.8494</td>\n",
       "      <td>406777200</td>\n",
       "      <td>SH600010</td>\n",
       "    </tr>\n",
       "    <tr>\n",
       "      <th>...</th>\n",
       "      <td>...</td>\n",
       "      <td>...</td>\n",
       "      <td>...</td>\n",
       "      <td>...</td>\n",
       "      <td>...</td>\n",
       "      <td>...</td>\n",
       "      <td>...</td>\n",
       "    </tr>\n",
       "    <tr>\n",
       "      <th>751</th>\n",
       "      <td>Day752</td>\n",
       "      <td>11.1639</td>\n",
       "      <td>11.2478</td>\n",
       "      <td>10.9960</td>\n",
       "      <td>11.0800</td>\n",
       "      <td>214003568</td>\n",
       "      <td>SH600010</td>\n",
       "    </tr>\n",
       "    <tr>\n",
       "      <th>752</th>\n",
       "      <td>Day753</td>\n",
       "      <td>11.0800</td>\n",
       "      <td>11.0800</td>\n",
       "      <td>10.8281</td>\n",
       "      <td>10.8281</td>\n",
       "      <td>179202608</td>\n",
       "      <td>SH600010</td>\n",
       "    </tr>\n",
       "    <tr>\n",
       "      <th>753</th>\n",
       "      <td>Day754</td>\n",
       "      <td>10.8281</td>\n",
       "      <td>10.9960</td>\n",
       "      <td>10.8281</td>\n",
       "      <td>10.9960</td>\n",
       "      <td>95952200</td>\n",
       "      <td>SH600010</td>\n",
       "    </tr>\n",
       "    <tr>\n",
       "      <th>754</th>\n",
       "      <td>Day755</td>\n",
       "      <td>10.9960</td>\n",
       "      <td>10.9960</td>\n",
       "      <td>10.8281</td>\n",
       "      <td>10.9121</td>\n",
       "      <td>119114024</td>\n",
       "      <td>SH600010</td>\n",
       "    </tr>\n",
       "    <tr>\n",
       "      <th>755</th>\n",
       "      <td>Day756</td>\n",
       "      <td>10.8281</td>\n",
       "      <td>10.9960</td>\n",
       "      <td>10.8281</td>\n",
       "      <td>10.9121</td>\n",
       "      <td>98428064</td>\n",
       "      <td>SH600010</td>\n",
       "    </tr>\n",
       "  </tbody>\n",
       "</table>\n",
       "<p>756 rows × 7 columns</p>\n",
       "</div>"
      ],
      "text/plain": [
       "       Time     Open     High      Low    Close     Volume   Company\n",
       "0      Day1  16.9570  17.1950  16.9570  17.0165  134513900  SH600010\n",
       "1      Day2  17.0165  17.6709  16.9570  17.6114  352646700  SH600010\n",
       "2      Day3  17.4329  17.6114  17.2545  17.5519  213135700  SH600010\n",
       "3      Day4  17.4924  17.8494  17.3140  17.3734  148732700  SH600010\n",
       "4      Day5  17.2545  18.0279  17.1355  17.8494  406777200  SH600010\n",
       "..      ...      ...      ...      ...      ...        ...       ...\n",
       "751  Day752  11.1639  11.2478  10.9960  11.0800  214003568  SH600010\n",
       "752  Day753  11.0800  11.0800  10.8281  10.8281  179202608  SH600010\n",
       "753  Day754  10.8281  10.9960  10.8281  10.9960   95952200  SH600010\n",
       "754  Day755  10.9960  10.9960  10.8281  10.9121  119114024  SH600010\n",
       "755  Day756  10.8281  10.9960  10.8281  10.9121   98428064  SH600010\n",
       "\n",
       "[756 rows x 7 columns]"
      ]
     },
     "execution_count": 5,
     "metadata": {},
     "output_type": "execute_result"
    }
   ],
   "source": [
    "rawDict['SH600010']"
   ]
  },
  {
   "cell_type": "code",
   "execution_count": 6,
   "metadata": {
    "ExecuteTime": {
     "end_time": "2020-04-05T21:22:09.332368Z",
     "start_time": "2020-04-05T21:22:08.613819Z"
    }
   },
   "outputs": [],
   "source": [
    "raw = pd.DataFrame()\n",
    "feature = pd.DataFrame()\n",
    "\n",
    "for name in fileNames:\n",
    "    raw=raw.append(rawDict[f'SH60{name}'])\n",
    "    feature=feature.append(featureDict[f'SH60{name}'])"
   ]
  },
  {
   "cell_type": "code",
   "execution_count": 7,
   "metadata": {
    "ExecuteTime": {
     "end_time": "2020-04-05T21:22:11.587473Z",
     "start_time": "2020-04-05T21:22:11.576670Z"
    }
   },
   "outputs": [
    {
     "data": {
      "text/plain": [
       "(37800, 7)"
      ]
     },
     "execution_count": 7,
     "metadata": {},
     "output_type": "execute_result"
    }
   ],
   "source": [
    "raw.shape"
   ]
  },
  {
   "cell_type": "code",
   "execution_count": 8,
   "metadata": {
    "ExecuteTime": {
     "end_time": "2020-04-05T21:22:37.446814Z",
     "start_time": "2020-04-05T21:22:37.439155Z"
    }
   },
   "outputs": [
    {
     "data": {
      "text/plain": [
       "(37000, 12)"
      ]
     },
     "execution_count": 8,
     "metadata": {},
     "output_type": "execute_result"
    }
   ],
   "source": [
    "feature.shape"
   ]
  },
  {
   "cell_type": "code",
   "execution_count": 9,
   "metadata": {
    "ExecuteTime": {
     "end_time": "2020-04-06T00:37:57.476116Z",
     "start_time": "2020-04-06T00:37:57.409054Z"
    }
   },
   "outputs": [
    {
     "data": {
      "text/html": [
       "<div>\n",
       "<style scoped>\n",
       "    .dataframe tbody tr th:only-of-type {\n",
       "        vertical-align: middle;\n",
       "    }\n",
       "\n",
       "    .dataframe tbody tr th {\n",
       "        vertical-align: top;\n",
       "    }\n",
       "\n",
       "    .dataframe thead th {\n",
       "        text-align: right;\n",
       "    }\n",
       "</style>\n",
       "<table border=\"1\" class=\"dataframe\">\n",
       "  <thead>\n",
       "    <tr style=\"text-align: right;\">\n",
       "      <th></th>\n",
       "      <th>Time</th>\n",
       "      <th>Open</th>\n",
       "      <th>High</th>\n",
       "      <th>Low</th>\n",
       "      <th>Close</th>\n",
       "      <th>Volume</th>\n",
       "      <th>Company</th>\n",
       "    </tr>\n",
       "  </thead>\n",
       "  <tbody>\n",
       "    <tr>\n",
       "      <th>0</th>\n",
       "      <td>Day1</td>\n",
       "      <td>154.6414</td>\n",
       "      <td>159.7405</td>\n",
       "      <td>154.4560</td>\n",
       "      <td>156.9592</td>\n",
       "      <td>45036400</td>\n",
       "      <td>SH600000</td>\n",
       "    </tr>\n",
       "    <tr>\n",
       "      <th>1</th>\n",
       "      <td>Day2</td>\n",
       "      <td>156.9592</td>\n",
       "      <td>158.7207</td>\n",
       "      <td>156.3102</td>\n",
       "      <td>156.5883</td>\n",
       "      <td>21043100</td>\n",
       "      <td>SH600000</td>\n",
       "    </tr>\n",
       "    <tr>\n",
       "      <th>2</th>\n",
       "      <td>Day3</td>\n",
       "      <td>156.5883</td>\n",
       "      <td>158.5353</td>\n",
       "      <td>155.8467</td>\n",
       "      <td>158.4426</td>\n",
       "      <td>23335200</td>\n",
       "      <td>SH600000</td>\n",
       "    </tr>\n",
       "    <tr>\n",
       "      <th>3</th>\n",
       "      <td>Day4</td>\n",
       "      <td>158.9988</td>\n",
       "      <td>162.1510</td>\n",
       "      <td>158.9988</td>\n",
       "      <td>159.5551</td>\n",
       "      <td>33835300</td>\n",
       "      <td>SH600000</td>\n",
       "    </tr>\n",
       "    <tr>\n",
       "      <th>4</th>\n",
       "      <td>Day5</td>\n",
       "      <td>159.5551</td>\n",
       "      <td>160.8530</td>\n",
       "      <td>158.6280</td>\n",
       "      <td>160.0186</td>\n",
       "      <td>29530100</td>\n",
       "      <td>SH600000</td>\n",
       "    </tr>\n",
       "  </tbody>\n",
       "</table>\n",
       "</div>"
      ],
      "text/plain": [
       "   Time      Open      High       Low     Close    Volume   Company\n",
       "0  Day1  154.6414  159.7405  154.4560  156.9592  45036400  SH600000\n",
       "1  Day2  156.9592  158.7207  156.3102  156.5883  21043100  SH600000\n",
       "2  Day3  156.5883  158.5353  155.8467  158.4426  23335200  SH600000\n",
       "3  Day4  158.9988  162.1510  158.9988  159.5551  33835300  SH600000\n",
       "4  Day5  159.5551  160.8530  158.6280  160.0186  29530100  SH600000"
      ]
     },
     "execution_count": 9,
     "metadata": {},
     "output_type": "execute_result"
    }
   ],
   "source": [
    "raw.head()"
   ]
  },
  {
   "cell_type": "code",
   "execution_count": 10,
   "metadata": {
    "ExecuteTime": {
     "end_time": "2020-04-06T00:38:09.503860Z",
     "start_time": "2020-04-06T00:38:09.471729Z"
    },
    "scrolled": true
   },
   "outputs": [
    {
     "data": {
      "text/html": [
       "<div>\n",
       "<style scoped>\n",
       "    .dataframe tbody tr th:only-of-type {\n",
       "        vertical-align: middle;\n",
       "    }\n",
       "\n",
       "    .dataframe tbody tr th {\n",
       "        vertical-align: top;\n",
       "    }\n",
       "\n",
       "    .dataframe thead th {\n",
       "        text-align: right;\n",
       "    }\n",
       "</style>\n",
       "<table border=\"1\" class=\"dataframe\">\n",
       "  <thead>\n",
       "    <tr style=\"text-align: right;\">\n",
       "      <th></th>\n",
       "      <th>Time</th>\n",
       "      <th>volumelag</th>\n",
       "      <th>rsilag</th>\n",
       "      <th>fastKlag</th>\n",
       "      <th>fastDlag</th>\n",
       "      <th>ADlag</th>\n",
       "      <th>OBVlag</th>\n",
       "      <th>MA5lag</th>\n",
       "      <th>MA15lag</th>\n",
       "      <th>day5Returnlag</th>\n",
       "      <th>day15Returnlag</th>\n",
       "      <th>PROClag</th>\n",
       "      <th>Company</th>\n",
       "    </tr>\n",
       "  </thead>\n",
       "  <tbody>\n",
       "    <tr>\n",
       "      <th>0</th>\n",
       "      <td>Day17</td>\n",
       "      <td>17860600</td>\n",
       "      <td>57.161421</td>\n",
       "      <td>0.493500</td>\n",
       "      <td>0.628701</td>\n",
       "      <td>-0.600043</td>\n",
       "      <td>132603900.0</td>\n",
       "      <td>160.05570</td>\n",
       "      <td>159.320207</td>\n",
       "      <td>0.233345</td>\n",
       "      <td>1.716987</td>\n",
       "      <td>0.058217</td>\n",
       "      <td>SH600000</td>\n",
       "    </tr>\n",
       "    <tr>\n",
       "      <th>1</th>\n",
       "      <td>Day18</td>\n",
       "      <td>30809600</td>\n",
       "      <td>43.371027</td>\n",
       "      <td>0.000000</td>\n",
       "      <td>0.324672</td>\n",
       "      <td>-1.000000</td>\n",
       "      <td>101794300.0</td>\n",
       "      <td>159.23984</td>\n",
       "      <td>159.202773</td>\n",
       "      <td>-3.690899</td>\n",
       "      <td>-2.282088</td>\n",
       "      <td>-2.833712</td>\n",
       "      <td>SH600000</td>\n",
       "    </tr>\n",
       "    <tr>\n",
       "      <th>2</th>\n",
       "      <td>Day19</td>\n",
       "      <td>14531400</td>\n",
       "      <td>42.452003</td>\n",
       "      <td>0.031911</td>\n",
       "      <td>0.175137</td>\n",
       "      <td>-0.700032</td>\n",
       "      <td>87262900.0</td>\n",
       "      <td>157.97898</td>\n",
       "      <td>158.937000</td>\n",
       "      <td>-4.745577</td>\n",
       "      <td>-3.195824</td>\n",
       "      <td>-0.239781</td>\n",
       "      <td>SH600000</td>\n",
       "    </tr>\n",
       "    <tr>\n",
       "      <th>3</th>\n",
       "      <td>Day20</td>\n",
       "      <td>8483500</td>\n",
       "      <td>39.311722</td>\n",
       "      <td>0.009433</td>\n",
       "      <td>0.013781</td>\n",
       "      <td>-0.894749</td>\n",
       "      <td>78779400.0</td>\n",
       "      <td>156.18038</td>\n",
       "      <td>158.510527</td>\n",
       "      <td>-3.785677</td>\n",
       "      <td>-4.287377</td>\n",
       "      <td>-0.843920</td>\n",
       "      <td>SH600000</td>\n",
       "    </tr>\n",
       "    <tr>\n",
       "      <th>4</th>\n",
       "      <td>Day21</td>\n",
       "      <td>22525800</td>\n",
       "      <td>34.588465</td>\n",
       "      <td>0.110347</td>\n",
       "      <td>0.050564</td>\n",
       "      <td>-0.272718</td>\n",
       "      <td>56253600.0</td>\n",
       "      <td>154.53014</td>\n",
       "      <td>157.904820</td>\n",
       "      <td>-5.238613</td>\n",
       "      <td>-5.128181</td>\n",
       "      <td>-1.463404</td>\n",
       "      <td>SH600000</td>\n",
       "    </tr>\n",
       "  </tbody>\n",
       "</table>\n",
       "</div>"
      ],
      "text/plain": [
       "    Time  volumelag     rsilag  fastKlag  fastDlag     ADlag       OBVlag  \\\n",
       "0  Day17   17860600  57.161421  0.493500  0.628701 -0.600043  132603900.0   \n",
       "1  Day18   30809600  43.371027  0.000000  0.324672 -1.000000  101794300.0   \n",
       "2  Day19   14531400  42.452003  0.031911  0.175137 -0.700032   87262900.0   \n",
       "3  Day20    8483500  39.311722  0.009433  0.013781 -0.894749   78779400.0   \n",
       "4  Day21   22525800  34.588465  0.110347  0.050564 -0.272718   56253600.0   \n",
       "\n",
       "      MA5lag     MA15lag  day5Returnlag  day15Returnlag   PROClag   Company  \n",
       "0  160.05570  159.320207       0.233345        1.716987  0.058217  SH600000  \n",
       "1  159.23984  159.202773      -3.690899       -2.282088 -2.833712  SH600000  \n",
       "2  157.97898  158.937000      -4.745577       -3.195824 -0.239781  SH600000  \n",
       "3  156.18038  158.510527      -3.785677       -4.287377 -0.843920  SH600000  \n",
       "4  154.53014  157.904820      -5.238613       -5.128181 -1.463404  SH600000  "
      ]
     },
     "execution_count": 10,
     "metadata": {},
     "output_type": "execute_result"
    }
   ],
   "source": [
    "feature.reset_index(level=0, inplace=True)\n",
    "feature.rename(columns={'index':'Time'},inplace=True)\n",
    "feature.head()"
   ]
  },
  {
   "cell_type": "code",
   "execution_count": 11,
   "metadata": {
    "ExecuteTime": {
     "end_time": "2020-04-06T00:40:48.078411Z",
     "start_time": "2020-04-06T00:40:48.041396Z"
    }
   },
   "outputs": [],
   "source": [
    "#feature.columns=['time', 'volumelag', 'rsilag', 'fastKlag', 'fastDlag', 'ADlag', 'OBVlag', 'MA5lag', 'MA15lag', 'day5Returnlag', 'day15Returnlag', 'PROClag', 'company']"
   ]
  },
  {
   "cell_type": "code",
   "execution_count": 12,
   "metadata": {},
   "outputs": [],
   "source": [
    "#raw.to_csv('raw.csv')\n",
    "#feature.to_csv('feature.csv')"
   ]
  },
  {
   "cell_type": "markdown",
   "metadata": {},
   "source": [
    "## Create variables"
   ]
  },
  {
   "cell_type": "code",
   "execution_count": 13,
   "metadata": {},
   "outputs": [],
   "source": [
    "raw['Log_vol']=np.log(raw.Volume).replace(-np.inf, 0)"
   ]
  },
  {
   "cell_type": "code",
   "execution_count": 14,
   "metadata": {},
   "outputs": [],
   "source": [
    "# y variables_Close price_% change\n",
    "y_variable = []\n",
    "days = [1]\n",
    "for day in days:\n",
    "    newcol = 'Next_' + str(day) + '_Close'\n",
    "    y_variable.append(newcol)\n",
    "    M = raw.groupby('Company')['Close'].shift(-day)\n",
    "    N = raw.groupby('Company')['Close'].shift(0)\n",
    "    raw[newcol] = (((M / N)-1) * 100)\n",
    "    raw[newcol] = raw[newcol].fillna(0)\n",
    "\n",
    "# y variables_Close price_% change\n",
    "y_variable = []\n",
    "days = [5,10,15]\n",
    "for day in days:\n",
    "    newcol = 'Next_' + str(day) + '_Close'\n",
    "    y_variable.append(newcol)\n",
    "    M = raw.groupby('Company')['Close'].shift(-day + 1)\n",
    "    N = raw.groupby('Company')['Close'].shift(0)\n",
    "    raw[newcol] = (((M / N)-1) * 100)\n",
    "    raw[newcol] = raw[newcol].fillna(0)\n",
    "\n",
    "#y variables_volume\n",
    "# y_variable_v = []\n",
    "# days = [1, 3, 7, 14, 30]\n",
    "# for day in days:\n",
    "#     newcol = 'Next_' + str(day) + '_Volume'\n",
    "#     y_variable_v.append(newcol)\n",
    "#     raw[newcol]=raw.groupby('Company')['Volume'].shift(-day)\n",
    "#     raw[newcol] = raw[newcol].fillna(0)\n",
    "    \n",
    "#Relative volume\n",
    "# relative_v = []\n",
    "# days = [3, 7, 14, 30]\n",
    "# for day in days:\n",
    "#     newcol = 'Relative_' + str(day) + '_Volume'\n",
    "#     relative_v.append(newcol)\n",
    "#     raw[newcol]=(raw.groupby('Company')['Volume'].shift(1))/(raw.groupby('Company')['Volume'].apply(lambda x: x.shift().rolling(window=day).mean()))\n",
    "#     raw[newcol] = raw[newcol].fillna(0)\n",
    "    \n",
    "#Relative volume_log\n",
    "relative_v_log = []\n",
    "days = [5, 10, 15]\n",
    "for day in days:\n",
    "    newcol = 'Relative_' + str(day) + '_LogVolume'\n",
    "    relative_v_log.append(newcol)\n",
    "    raw[newcol]=(raw.groupby('Company')['Log_vol'].shift(1))/(raw.groupby('Company')['Log_vol'].apply(lambda x: x.shift().rolling(window=day).mean()))\n",
    "    raw[newcol] = raw[newcol].fillna(0)\n",
    "    \n",
    "#Price rate of change(ROC)\n",
    "roc= []\n",
    "days = [5,10,15]\n",
    "for day in days:\n",
    "    newcol = 'Price_rate' + str(day) + '_change'\n",
    "    roc.append(newcol)\n",
    "    M = raw.groupby('Company')['Close'].diff(day - 1)\n",
    "    N = raw.groupby('Company')['Close'].shift(day - 1)  \n",
    "    raw[newcol] = ((M / N) * 100)\n",
    "    raw[newcol] = raw[newcol].fillna(0)\n",
    "    \n",
    "#Bollinger Upper_Bands\n",
    "# upper_band= []\n",
    "# days = [10,20,50]\n",
    "# for day in days:\n",
    "#     newcol = 'Bollinger' + str(day) + '_upperBand'\n",
    "#     upper_band.append(newcol)\n",
    "#     raw[newcol]=(raw.groupby('Company')['Close'].apply(lambda x: x.rolling(window=day).mean()))+(raw.groupby('Company')['Close'].apply(lambda x: x.rolling(window=day).std())*2)\n",
    "#     raw[newcol] = raw[newcol].fillna(0)\n",
    "    \n",
    "# #Bollinger Lower_Bands\n",
    "# lower_band= []\n",
    "# days = [10,20,50]\n",
    "# for day in days:\n",
    "#     newcol = 'Bollinger' + str(day) + '_lowerBand'\n",
    "#     lower_band.append(newcol)\n",
    "#     raw[newcol]=(raw.groupby('Company')['Close'].apply(lambda x: x.rolling(window=day).mean()))-(raw.groupby('Company')['Close'].apply(lambda x: x.rolling(window=day).std())*2)\n",
    "#     raw[newcol] = raw[newcol].fillna(0)\n"
   ]
  },
  {
   "cell_type": "code",
   "execution_count": 15,
   "metadata": {},
   "outputs": [
    {
     "data": {
      "text/plain": [
       "(37800, 18)"
      ]
     },
     "execution_count": 15,
     "metadata": {},
     "output_type": "execute_result"
    }
   ],
   "source": [
    "raw.shape"
   ]
  },
  {
   "cell_type": "code",
   "execution_count": 16,
   "metadata": {},
   "outputs": [],
   "source": [
    "# final features\n",
    "new_features=pd.merge(raw, feature, how='left',on=['Time','Company'])"
   ]
  },
  {
   "cell_type": "code",
   "execution_count": 17,
   "metadata": {},
   "outputs": [],
   "source": [
    "new_features.drop(columns=['Open', 'High', 'Low', 'Close', 'Volume','Log_vol'], inplace=True)"
   ]
  },
  {
   "cell_type": "code",
   "execution_count": 18,
   "metadata": {},
   "outputs": [],
   "source": [
    "new_features=new_features.fillna(0)"
   ]
  },
  {
   "cell_type": "markdown",
   "metadata": {},
   "source": [
    "## Z-scaling before feature selection"
   ]
  },
  {
   "cell_type": "code",
   "execution_count": 19,
   "metadata": {},
   "outputs": [
    {
     "data": {
      "text/plain": [
       "Index(['Time', 'Company', 'Next_1_Close', 'Next_5_Close', 'Next_10_Close',\n",
       "       'Next_15_Close', 'Relative_5_LogVolume', 'Relative_10_LogVolume',\n",
       "       'Relative_15_LogVolume', 'Price_rate5_change', 'Price_rate10_change',\n",
       "       'Price_rate15_change', 'volumelag', 'rsilag', 'fastKlag', 'fastDlag',\n",
       "       'ADlag', 'OBVlag', 'MA5lag', 'MA15lag', 'day5Returnlag',\n",
       "       'day15Returnlag', 'PROClag'],\n",
       "      dtype='object')"
      ]
     },
     "execution_count": 19,
     "metadata": {},
     "output_type": "execute_result"
    }
   ],
   "source": [
    "new_features.columns"
   ]
  },
  {
   "cell_type": "code",
   "execution_count": 21,
   "metadata": {},
   "outputs": [
    {
     "data": {
      "text/html": [
       "<div>\n",
       "<style scoped>\n",
       "    .dataframe tbody tr th:only-of-type {\n",
       "        vertical-align: middle;\n",
       "    }\n",
       "\n",
       "    .dataframe tbody tr th {\n",
       "        vertical-align: top;\n",
       "    }\n",
       "\n",
       "    .dataframe thead th {\n",
       "        text-align: right;\n",
       "    }\n",
       "</style>\n",
       "<table border=\"1\" class=\"dataframe\">\n",
       "  <thead>\n",
       "    <tr style=\"text-align: right;\">\n",
       "      <th></th>\n",
       "      <th>Time</th>\n",
       "      <th>Company</th>\n",
       "      <th>Next_1_Close</th>\n",
       "      <th>Next_5_Close</th>\n",
       "      <th>Next_10_Close</th>\n",
       "      <th>Next_15_Close</th>\n",
       "      <th>Relative_5_LogVolume</th>\n",
       "      <th>Relative_10_LogVolume</th>\n",
       "      <th>Relative_15_LogVolume</th>\n",
       "      <th>Price_rate5_change</th>\n",
       "      <th>...</th>\n",
       "      <th>rsilag</th>\n",
       "      <th>fastKlag</th>\n",
       "      <th>fastDlag</th>\n",
       "      <th>ADlag</th>\n",
       "      <th>OBVlag</th>\n",
       "      <th>MA5lag</th>\n",
       "      <th>MA15lag</th>\n",
       "      <th>day5Returnlag</th>\n",
       "      <th>day15Returnlag</th>\n",
       "      <th>PROClag</th>\n",
       "    </tr>\n",
       "  </thead>\n",
       "  <tbody>\n",
       "    <tr>\n",
       "      <th>0</th>\n",
       "      <td>Day1</td>\n",
       "      <td>SH600000</td>\n",
       "      <td>-0.236303</td>\n",
       "      <td>1.949169</td>\n",
       "      <td>1.712929</td>\n",
       "      <td>1.417566</td>\n",
       "      <td>0.000000</td>\n",
       "      <td>0.000000</td>\n",
       "      <td>0.000000</td>\n",
       "      <td>0.000000</td>\n",
       "      <td>...</td>\n",
       "      <td>0.000000</td>\n",
       "      <td>0.000000</td>\n",
       "      <td>0.000000</td>\n",
       "      <td>0.000000e+00</td>\n",
       "      <td>0.000000e+00</td>\n",
       "      <td>0.00000</td>\n",
       "      <td>0.000000</td>\n",
       "      <td>0.000000</td>\n",
       "      <td>0.000000</td>\n",
       "      <td>0.000000</td>\n",
       "    </tr>\n",
       "    <tr>\n",
       "      <th>1</th>\n",
       "      <td>Day2</td>\n",
       "      <td>SH600000</td>\n",
       "      <td>1.184188</td>\n",
       "      <td>1.598587</td>\n",
       "      <td>1.065725</td>\n",
       "      <td>1.716987</td>\n",
       "      <td>0.000000</td>\n",
       "      <td>0.000000</td>\n",
       "      <td>0.000000</td>\n",
       "      <td>0.000000</td>\n",
       "      <td>...</td>\n",
       "      <td>0.000000</td>\n",
       "      <td>0.000000</td>\n",
       "      <td>0.000000</td>\n",
       "      <td>0.000000e+00</td>\n",
       "      <td>0.000000e+00</td>\n",
       "      <td>0.00000</td>\n",
       "      <td>0.000000</td>\n",
       "      <td>0.000000</td>\n",
       "      <td>0.000000</td>\n",
       "      <td>0.000000</td>\n",
       "    </tr>\n",
       "    <tr>\n",
       "      <th>2</th>\n",
       "      <td>Day3</td>\n",
       "      <td>SH600000</td>\n",
       "      <td>0.702147</td>\n",
       "      <td>0.351042</td>\n",
       "      <td>0.292535</td>\n",
       "      <td>-2.282088</td>\n",
       "      <td>0.000000</td>\n",
       "      <td>0.000000</td>\n",
       "      <td>0.000000</td>\n",
       "      <td>0.000000</td>\n",
       "      <td>...</td>\n",
       "      <td>0.000000</td>\n",
       "      <td>0.000000</td>\n",
       "      <td>0.000000</td>\n",
       "      <td>0.000000e+00</td>\n",
       "      <td>0.000000e+00</td>\n",
       "      <td>0.00000</td>\n",
       "      <td>0.000000</td>\n",
       "      <td>0.000000</td>\n",
       "      <td>0.000000</td>\n",
       "      <td>0.000000</td>\n",
       "    </tr>\n",
       "    <tr>\n",
       "      <th>3</th>\n",
       "      <td>Day4</td>\n",
       "      <td>SH600000</td>\n",
       "      <td>0.290495</td>\n",
       "      <td>-0.639152</td>\n",
       "      <td>0.755350</td>\n",
       "      <td>-3.195824</td>\n",
       "      <td>0.000000</td>\n",
       "      <td>0.000000</td>\n",
       "      <td>0.000000</td>\n",
       "      <td>0.000000</td>\n",
       "      <td>...</td>\n",
       "      <td>0.000000</td>\n",
       "      <td>0.000000</td>\n",
       "      <td>0.000000</td>\n",
       "      <td>0.000000e+00</td>\n",
       "      <td>0.000000e+00</td>\n",
       "      <td>0.00000</td>\n",
       "      <td>0.000000</td>\n",
       "      <td>0.000000</td>\n",
       "      <td>0.000000</td>\n",
       "      <td>0.000000</td>\n",
       "    </tr>\n",
       "    <tr>\n",
       "      <th>4</th>\n",
       "      <td>Day5</td>\n",
       "      <td>SH600000</td>\n",
       "      <td>-0.579370</td>\n",
       "      <td>0.231786</td>\n",
       "      <td>1.332595</td>\n",
       "      <td>-4.287377</td>\n",
       "      <td>0.000000</td>\n",
       "      <td>0.000000</td>\n",
       "      <td>0.000000</td>\n",
       "      <td>1.949169</td>\n",
       "      <td>...</td>\n",
       "      <td>0.000000</td>\n",
       "      <td>0.000000</td>\n",
       "      <td>0.000000</td>\n",
       "      <td>0.000000e+00</td>\n",
       "      <td>0.000000e+00</td>\n",
       "      <td>0.00000</td>\n",
       "      <td>0.000000</td>\n",
       "      <td>0.000000</td>\n",
       "      <td>0.000000</td>\n",
       "      <td>0.000000</td>\n",
       "    </tr>\n",
       "    <tr>\n",
       "      <th>...</th>\n",
       "      <td>...</td>\n",
       "      <td>...</td>\n",
       "      <td>...</td>\n",
       "      <td>...</td>\n",
       "      <td>...</td>\n",
       "      <td>...</td>\n",
       "      <td>...</td>\n",
       "      <td>...</td>\n",
       "      <td>...</td>\n",
       "      <td>...</td>\n",
       "      <td>...</td>\n",
       "      <td>...</td>\n",
       "      <td>...</td>\n",
       "      <td>...</td>\n",
       "      <td>...</td>\n",
       "      <td>...</td>\n",
       "      <td>...</td>\n",
       "      <td>...</td>\n",
       "      <td>...</td>\n",
       "      <td>...</td>\n",
       "      <td>...</td>\n",
       "    </tr>\n",
       "    <tr>\n",
       "      <th>37795</th>\n",
       "      <td>Day752</td>\n",
       "      <td>SH601998</td>\n",
       "      <td>-0.487746</td>\n",
       "      <td>-0.324797</td>\n",
       "      <td>0.000000</td>\n",
       "      <td>0.000000</td>\n",
       "      <td>0.976223</td>\n",
       "      <td>0.986891</td>\n",
       "      <td>0.995823</td>\n",
       "      <td>0.653841</td>\n",
       "      <td>...</td>\n",
       "      <td>63.907078</td>\n",
       "      <td>0.868285</td>\n",
       "      <td>0.893034</td>\n",
       "      <td>-6.677966e-01</td>\n",
       "      <td>1.543553e+09</td>\n",
       "      <td>9.11500</td>\n",
       "      <td>8.901707</td>\n",
       "      <td>1.633494</td>\n",
       "      <td>3.665774</td>\n",
       "      <td>-0.161248</td>\n",
       "    </tr>\n",
       "    <tr>\n",
       "      <th>37796</th>\n",
       "      <td>Day753</td>\n",
       "      <td>SH601998</td>\n",
       "      <td>0.000000</td>\n",
       "      <td>0.000000</td>\n",
       "      <td>0.000000</td>\n",
       "      <td>0.000000</td>\n",
       "      <td>1.000946</td>\n",
       "      <td>1.005033</td>\n",
       "      <td>1.016057</td>\n",
       "      <td>-1.446952</td>\n",
       "      <td>...</td>\n",
       "      <td>57.247997</td>\n",
       "      <td>0.710512</td>\n",
       "      <td>0.832590</td>\n",
       "      <td>-7.769405e-01</td>\n",
       "      <td>1.520035e+09</td>\n",
       "      <td>9.12680</td>\n",
       "      <td>8.917433</td>\n",
       "      <td>0.653841</td>\n",
       "      <td>3.355827</td>\n",
       "      <td>-0.968584</td>\n",
       "    </tr>\n",
       "    <tr>\n",
       "      <th>37797</th>\n",
       "      <td>Day754</td>\n",
       "      <td>SH601998</td>\n",
       "      <td>-0.489030</td>\n",
       "      <td>0.000000</td>\n",
       "      <td>0.000000</td>\n",
       "      <td>0.000000</td>\n",
       "      <td>0.987725</td>\n",
       "      <td>0.988389</td>\n",
       "      <td>0.999703</td>\n",
       "      <td>-1.605739</td>\n",
       "      <td>...</td>\n",
       "      <td>54.200092</td>\n",
       "      <td>0.631447</td>\n",
       "      <td>0.736748</td>\n",
       "      <td>-6.000000e-01</td>\n",
       "      <td>1.501856e+09</td>\n",
       "      <td>9.12974</td>\n",
       "      <td>8.934140</td>\n",
       "      <td>-1.446952</td>\n",
       "      <td>2.851713</td>\n",
       "      <td>-0.488939</td>\n",
       "    </tr>\n",
       "    <tr>\n",
       "      <th>37798</th>\n",
       "      <td>Day755</td>\n",
       "      <td>SH601998</td>\n",
       "      <td>0.655986</td>\n",
       "      <td>0.000000</td>\n",
       "      <td>0.000000</td>\n",
       "      <td>0.000000</td>\n",
       "      <td>0.961581</td>\n",
       "      <td>0.949855</td>\n",
       "      <td>0.958730</td>\n",
       "      <td>-1.928906</td>\n",
       "      <td>...</td>\n",
       "      <td>54.200092</td>\n",
       "      <td>0.631447</td>\n",
       "      <td>0.657802</td>\n",
       "      <td>-3.010774e-14</td>\n",
       "      <td>1.501856e+09</td>\n",
       "      <td>9.10320</td>\n",
       "      <td>8.950847</td>\n",
       "      <td>-1.605739</td>\n",
       "      <td>3.025225</td>\n",
       "      <td>0.000000</td>\n",
       "    </tr>\n",
       "    <tr>\n",
       "      <th>37799</th>\n",
       "      <td>Day756</td>\n",
       "      <td>SH601998</td>\n",
       "      <td>0.000000</td>\n",
       "      <td>0.000000</td>\n",
       "      <td>0.000000</td>\n",
       "      <td>0.000000</td>\n",
       "      <td>0.993607</td>\n",
       "      <td>0.978013</td>\n",
       "      <td>0.983940</td>\n",
       "      <td>-0.324797</td>\n",
       "      <td>...</td>\n",
       "      <td>51.054767</td>\n",
       "      <td>0.552561</td>\n",
       "      <td>0.605152</td>\n",
       "      <td>1.994573e-01</td>\n",
       "      <td>1.488086e+09</td>\n",
       "      <td>9.06486</td>\n",
       "      <td>8.965593</td>\n",
       "      <td>-1.928906</td>\n",
       "      <td>2.177815</td>\n",
       "      <td>-0.490230</td>\n",
       "    </tr>\n",
       "  </tbody>\n",
       "</table>\n",
       "<p>37800 rows × 23 columns</p>\n",
       "</div>"
      ],
      "text/plain": [
       "         Time   Company  Next_1_Close  Next_5_Close  Next_10_Close  \\\n",
       "0        Day1  SH600000     -0.236303      1.949169       1.712929   \n",
       "1        Day2  SH600000      1.184188      1.598587       1.065725   \n",
       "2        Day3  SH600000      0.702147      0.351042       0.292535   \n",
       "3        Day4  SH600000      0.290495     -0.639152       0.755350   \n",
       "4        Day5  SH600000     -0.579370      0.231786       1.332595   \n",
       "...       ...       ...           ...           ...            ...   \n",
       "37795  Day752  SH601998     -0.487746     -0.324797       0.000000   \n",
       "37796  Day753  SH601998      0.000000      0.000000       0.000000   \n",
       "37797  Day754  SH601998     -0.489030      0.000000       0.000000   \n",
       "37798  Day755  SH601998      0.655986      0.000000       0.000000   \n",
       "37799  Day756  SH601998      0.000000      0.000000       0.000000   \n",
       "\n",
       "       Next_15_Close  Relative_5_LogVolume  Relative_10_LogVolume  \\\n",
       "0           1.417566              0.000000               0.000000   \n",
       "1           1.716987              0.000000               0.000000   \n",
       "2          -2.282088              0.000000               0.000000   \n",
       "3          -3.195824              0.000000               0.000000   \n",
       "4          -4.287377              0.000000               0.000000   \n",
       "...              ...                   ...                    ...   \n",
       "37795       0.000000              0.976223               0.986891   \n",
       "37796       0.000000              1.000946               1.005033   \n",
       "37797       0.000000              0.987725               0.988389   \n",
       "37798       0.000000              0.961581               0.949855   \n",
       "37799       0.000000              0.993607               0.978013   \n",
       "\n",
       "       Relative_15_LogVolume  Price_rate5_change  ...     rsilag  fastKlag  \\\n",
       "0                   0.000000            0.000000  ...   0.000000  0.000000   \n",
       "1                   0.000000            0.000000  ...   0.000000  0.000000   \n",
       "2                   0.000000            0.000000  ...   0.000000  0.000000   \n",
       "3                   0.000000            0.000000  ...   0.000000  0.000000   \n",
       "4                   0.000000            1.949169  ...   0.000000  0.000000   \n",
       "...                      ...                 ...  ...        ...       ...   \n",
       "37795               0.995823            0.653841  ...  63.907078  0.868285   \n",
       "37796               1.016057           -1.446952  ...  57.247997  0.710512   \n",
       "37797               0.999703           -1.605739  ...  54.200092  0.631447   \n",
       "37798               0.958730           -1.928906  ...  54.200092  0.631447   \n",
       "37799               0.983940           -0.324797  ...  51.054767  0.552561   \n",
       "\n",
       "       fastDlag         ADlag        OBVlag   MA5lag   MA15lag  day5Returnlag  \\\n",
       "0      0.000000  0.000000e+00  0.000000e+00  0.00000  0.000000       0.000000   \n",
       "1      0.000000  0.000000e+00  0.000000e+00  0.00000  0.000000       0.000000   \n",
       "2      0.000000  0.000000e+00  0.000000e+00  0.00000  0.000000       0.000000   \n",
       "3      0.000000  0.000000e+00  0.000000e+00  0.00000  0.000000       0.000000   \n",
       "4      0.000000  0.000000e+00  0.000000e+00  0.00000  0.000000       0.000000   \n",
       "...         ...           ...           ...      ...       ...            ...   \n",
       "37795  0.893034 -6.677966e-01  1.543553e+09  9.11500  8.901707       1.633494   \n",
       "37796  0.832590 -7.769405e-01  1.520035e+09  9.12680  8.917433       0.653841   \n",
       "37797  0.736748 -6.000000e-01  1.501856e+09  9.12974  8.934140      -1.446952   \n",
       "37798  0.657802 -3.010774e-14  1.501856e+09  9.10320  8.950847      -1.605739   \n",
       "37799  0.605152  1.994573e-01  1.488086e+09  9.06486  8.965593      -1.928906   \n",
       "\n",
       "       day15Returnlag   PROClag  \n",
       "0            0.000000  0.000000  \n",
       "1            0.000000  0.000000  \n",
       "2            0.000000  0.000000  \n",
       "3            0.000000  0.000000  \n",
       "4            0.000000  0.000000  \n",
       "...               ...       ...  \n",
       "37795        3.665774 -0.161248  \n",
       "37796        3.355827 -0.968584  \n",
       "37797        2.851713 -0.488939  \n",
       "37798        3.025225  0.000000  \n",
       "37799        2.177815 -0.490230  \n",
       "\n",
       "[37800 rows x 23 columns]"
      ]
     },
     "execution_count": 21,
     "metadata": {},
     "output_type": "execute_result"
    }
   ],
   "source": [
    "new_features"
   ]
  },
  {
   "cell_type": "markdown",
   "metadata": {},
   "source": [
    "## y=Next_1_Close"
   ]
  },
  {
   "cell_type": "code",
   "execution_count": 23,
   "metadata": {},
   "outputs": [
    {
     "data": {
      "text/plain": [
       "Index(['Time', 'Company', 'Next_1_Close', 'Next_5_Close', 'Next_10_Close',\n",
       "       'Next_15_Close', 'Relative_5_LogVolume', 'Relative_10_LogVolume',\n",
       "       'Relative_15_LogVolume', 'Price_rate5_change', 'Price_rate10_change',\n",
       "       'Price_rate15_change', 'volumelag', 'rsilag', 'fastKlag', 'fastDlag',\n",
       "       'ADlag', 'OBVlag', 'MA5lag', 'MA15lag', 'day5Returnlag',\n",
       "       'day15Returnlag', 'PROClag'],\n",
       "      dtype='object')"
      ]
     },
     "execution_count": 23,
     "metadata": {},
     "output_type": "execute_result"
    }
   ],
   "source": [
    "new_features.columns"
   ]
  },
  {
   "cell_type": "code",
   "execution_count": 27,
   "metadata": {},
   "outputs": [],
   "source": [
    "Next_1_Close_y=new_features.iloc[:,6:]"
   ]
  },
  {
   "cell_type": "code",
   "execution_count": 28,
   "metadata": {},
   "outputs": [],
   "source": [
    "Next_1_Close_y['Next_1_Close']=new_features['Next_1_Close']"
   ]
  },
  {
   "cell_type": "code",
   "execution_count": 29,
   "metadata": {},
   "outputs": [],
   "source": [
    "Next_1_Close_y.to_csv('Next_1_Close_y.csv')"
   ]
  },
  {
   "cell_type": "markdown",
   "metadata": {},
   "source": [
    "## y=Next_5_Close"
   ]
  },
  {
   "cell_type": "code",
   "execution_count": 30,
   "metadata": {},
   "outputs": [],
   "source": [
    "Next_5_Close_y=new_features.iloc[:,6:]"
   ]
  },
  {
   "cell_type": "code",
   "execution_count": 31,
   "metadata": {},
   "outputs": [],
   "source": [
    "Next_5_Close_y['Next_5_Close']=new_features['Next_5_Close']"
   ]
  },
  {
   "cell_type": "code",
   "execution_count": 32,
   "metadata": {},
   "outputs": [],
   "source": [
    "Next_5_Close_y.to_csv('Next_5_Close_y.csv')"
   ]
  },
  {
   "cell_type": "markdown",
   "metadata": {},
   "source": [
    "## y=Next_10_Close"
   ]
  },
  {
   "cell_type": "code",
   "execution_count": 33,
   "metadata": {},
   "outputs": [],
   "source": [
    "Next_10_Close_y=new_features.iloc[:,6:]"
   ]
  },
  {
   "cell_type": "code",
   "execution_count": 34,
   "metadata": {},
   "outputs": [],
   "source": [
    "Next_10_Close_y['Next_10_Close']=new_features['Next_10_Close']"
   ]
  },
  {
   "cell_type": "code",
   "execution_count": 35,
   "metadata": {},
   "outputs": [],
   "source": [
    "Next_10_Close_y.to_csv('Next_10_Close_y.csv')"
   ]
  },
  {
   "cell_type": "markdown",
   "metadata": {},
   "source": [
    "## y=Next_15_Close"
   ]
  },
  {
   "cell_type": "code",
   "execution_count": 36,
   "metadata": {},
   "outputs": [],
   "source": [
    "Next_15_Close_y=new_features.iloc[:,6:]"
   ]
  },
  {
   "cell_type": "code",
   "execution_count": 37,
   "metadata": {},
   "outputs": [],
   "source": [
    "Next_15_Close_y['Next_15_Close']=new_features['Next_15_Close']"
   ]
  },
  {
   "cell_type": "code",
   "execution_count": 38,
   "metadata": {},
   "outputs": [],
   "source": [
    "Next_15_Close_y.to_csv('Next_15_Close_y.csv')"
   ]
  },
  {
   "cell_type": "code",
   "execution_count": null,
   "metadata": {},
   "outputs": [],
   "source": []
  }
 ],
 "metadata": {
  "kernelspec": {
   "display_name": "Python 3",
   "language": "python",
   "name": "python3"
  },
  "language_info": {
   "codemirror_mode": {
    "name": "ipython",
    "version": 3
   },
   "file_extension": ".py",
   "mimetype": "text/x-python",
   "name": "python",
   "nbconvert_exporter": "python",
   "pygments_lexer": "ipython3",
   "version": "3.7.6"
  },
  "toc": {
   "base_numbering": 1,
   "nav_menu": {},
   "number_sections": true,
   "sideBar": true,
   "skip_h1_title": false,
   "title_cell": "Table of Contents",
   "title_sidebar": "Contents",
   "toc_cell": false,
   "toc_position": {},
   "toc_section_display": true,
   "toc_window_display": false
  },
  "varInspector": {
   "cols": {
    "lenName": 16,
    "lenType": 16,
    "lenVar": 40
   },
   "kernels_config": {
    "python": {
     "delete_cmd_postfix": "",
     "delete_cmd_prefix": "del ",
     "library": "var_list.py",
     "varRefreshCmd": "print(var_dic_list())"
    },
    "r": {
     "delete_cmd_postfix": ") ",
     "delete_cmd_prefix": "rm(",
     "library": "var_list.r",
     "varRefreshCmd": "cat(var_dic_list()) "
    }
   },
   "types_to_exclude": [
    "module",
    "function",
    "builtin_function_or_method",
    "instance",
    "_Feature"
   ],
   "window_display": false
  }
 },
 "nbformat": 4,
 "nbformat_minor": 2
}
